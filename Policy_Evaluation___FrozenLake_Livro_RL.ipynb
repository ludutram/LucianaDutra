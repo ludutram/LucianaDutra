{
  "nbformat": 4,
  "nbformat_minor": 0,
  "metadata": {
    "colab": {
      "provenance": [],
      "authorship_tag": "ABX9TyNEQFJctH3FNukXIq4Ap5Wm",
      "include_colab_link": true
    },
    "kernelspec": {
      "name": "python3",
      "display_name": "Python 3"
    },
    "language_info": {
      "name": "python"
    }
  },
  "cells": [
    {
      "cell_type": "markdown",
      "metadata": {
        "id": "view-in-github",
        "colab_type": "text"
      },
      "source": [
        "<a href=\"https://colab.research.google.com/github/ludutram/LucianaDutra/blob/master/Policy_Evaluation___FrozenLake_Livro_RL.ipynb\" target=\"_parent\"><img src=\"https://colab.research.google.com/assets/colab-badge.svg\" alt=\"Open In Colab\"/></a>"
      ]
    },
    {
      "cell_type": "code",
      "execution_count": 1,
      "metadata": {
        "id": "eWssptz50uhl"
      },
      "outputs": [],
      "source": [
        "import numpy as np\n",
        "import gym"
      ]
    },
    {
      "cell_type": "markdown",
      "source": [
        "Criar o ambiente"
      ],
      "metadata": {
        "id": "AzwxoIv93c9_"
      }
    },
    {
      "cell_type": "code",
      "source": [
        "#Cria o ambiente\n",
        "env = gym.make('FrozenLake-v1')\n",
        "env = env.unwrapped\n",
        "nA = env.action_space.n\n",
        "nS = env.observation_space.n\n",
        "V = np.zeros(nS)\n",
        "policy = np.zeros(nS)"
      ],
      "metadata": {
        "colab": {
          "base_uri": "https://localhost:8080/"
        },
        "id": "_eUnVDCn2s1w",
        "outputId": "f5366579-bf8c-45f4-9c08-125946671068"
      },
      "execution_count": 5,
      "outputs": [
        {
          "output_type": "stream",
          "name": "stderr",
          "text": [
            "/usr/local/lib/python3.8/dist-packages/gym/core.py:317: DeprecationWarning: \u001b[33mWARN: Initializing wrapper in old step API which returns one bool instead of two. It is recommended to set `new_step_api=True` to use new step API. This will be the default behaviour in future.\u001b[0m\n",
            "  deprecation(\n",
            "/usr/local/lib/python3.8/dist-packages/gym/wrappers/step_api_compatibility.py:39: DeprecationWarning: \u001b[33mWARN: Initializing environment in old step API which returns one bool instead of two. It is recommended to set `new_step_api=True` to use new step API. This will be the default behaviour in future.\u001b[0m\n",
            "  deprecation(\n"
          ]
        }
      ]
    },
    {
      "cell_type": "markdown",
      "source": [
        "Ciclo principal que faz uma etapa de avaliação de políticas e uma tapa de melhoria de políticas. Este ciclo termina quando a política fica estável."
      ],
      "metadata": {
        "id": "L8pMUcz_5t8z"
      }
    },
    {
      "cell_type": "code",
      "source": [
        "policy_stable = False\n",
        "it = 0\n",
        "while not policy_stable:\n",
        "    policy_evaluation(V, policy)\n",
        "    policy_stable = policy_improvement(V, policy)\n",
        "    it += 1\n"
      ],
      "metadata": {
        "id": "CxDo8DKv5Zr6"
      },
      "execution_count": null,
      "outputs": []
    },
    {
      "cell_type": "markdown",
      "source": [
        " "
      ],
      "metadata": {
        "id": "yY1LCJPS7xDb"
      }
    },
    {
      "cell_type": "code",
      "source": [
        "#No final imprime o número de iterações completas, o valor da função, a política e  pontuação alcançada\n",
        "print('Converged after %i policy iterations '%(it)) \n",
        "run_episodes(env, V, policy)\n",
        "print(V.reshape((4,4)))\n",
        "print(policy.reshape((4,4)))\n"
      ],
      "metadata": {
        "id": "v1vnOFST60CG"
      },
      "execution_count": null,
      "outputs": []
    },
    {
      "cell_type": "code",
      "source": [
        "#antes de definir a policy_evaluation, podemos criar uma função para avaliar o \n",
        "#valor da ação esperado que será aproveitado no policy_improvement\n",
        "def eval_state_action(V, s, a, gamma=0.99):\n",
        "  return  np.sum([p * (rew + gamma*V[next_s]) for p, next_s, rew, _ in env.P[s][a]])\n",
        "\n",
        "# P é um dicionário que contém todas as informaçãoes sobre a dinâmica do ambiente\n",
        "# gamma é um fator de desconto, sendo 0,99 um valor padrão, quanto maior , mais difícil é para o agente prever\n",
        "# o valor de estado, porque ele deve olhar mais para o futuro"
      ],
      "metadata": {
        "id": "d3Ct99yQ8tbx"
      },
      "execution_count": null,
      "outputs": []
    },
    {
      "cell_type": "markdown",
      "source": [
        "![image.png](data:image/png;base64,iVBORw0KGgoAAAANSUhEUgAAAaAAAACHCAYAAABQ6I1jAAAAAXNSR0IArs4c6QAAAARnQU1BAACxjwv8YQUAAAAJcEhZcwAAEnQAABJ0Ad5mH3gAADa8SURBVHhe7Z0JvBXj+8DfbJFdQsmWfSv7Ekq2smSNFiLJvu9LfztJJNl+EqFCkn0nWRIREqENKSlrtuy8//f7NFNz586cM3PuOXfOvff5fj4jd86cOTPv8uzvTD3rMIqiKIpSzSzi/asoiqIo1YoqIEVRFCUTVAEpiqIomaAKSFEURckEVUCKoihKJqgCUhRFUTJBFZCiKIqSCaqAFEVRlExQBaQoiqJkgiogRVEUJRNUASmKoiiZoApIURRFyQRVQIqiKEomqAJSFEVRMkEVkKIoipIJi17m8P6/KMS9XqhevXre/80n6rjwMdXJ77//bkaMGGG+++47s84663h788P3hg8fbv7++2+z6qqrmkUWKU+dnva1T4X0xSWXXGLuv/9+8+qrr5oGDRqYtdZay/uk9pJ0vENVxjzf/frrr02fPn3MNttsY+rXr+99Ul78+++/5rXXXjPvvvuuadasmVlsscW8Tyry559/mmeffdb8/PPPZvXVV/f21m7++ecfM3bsWHP11VeLrKHvaaNFF13UO6LuUdQX0n311Vdm5syZ5r///lswsTj9iiuuKA29xBJLyD54++23RWj7x/EZAqtRo0byd3Xy22+/mRtvvNF89NFH5r777vP2JmfIkCHm4YcfNhdddJEIh3JTQn/88Yd5//33vb/yw4RYY401zGqrrebtScYuu+xiTjjhBLPhhhvK91HItRnG+ccffyxClHHMxnin/RCqQcGK8vj000+9v+azyiqrmPXWW8/7Kzeff/65Oe6446R9DzzwwLIWWm+++aa57rrrTPv27U3nzp3Nkksu6X2ykF9++cVcccUVZrPNNjNHHXWUt7d2w9jAwGUcIGcwdE888USz1FJLeUfUQVBAxcJ5ArZjx462adOmKDW79NJL27Zt29orr7zSfv/9995R1joryXbp0sU6IWWd4rHNmze33bp1s85y9o6oXu655x7bokUL+80333h70nPppZfKvc+ePdvbUz7MmDHD7rvvvnb77be3TjnalVde2TplIfv8bZ999rHbbrutdZ6LdUaAHThwoPft5Oy88872ww8/9P6q/TjFbnv27Gn32msv6yx9adtNNtnEdurUyTqDxDtqPk899ZS0sVNStmHDhvKdm266yfs0N07BWad4bNeuXe2cOXO8veUN93/ooYda5w1ZZ/l7exfCPZ1zzjky9+oizpO1/fr1s8749fbUTYqqgJxHI5Py7LPPFgW0/vrrW+cV2b/++ss7YiHOBbf77befbdeunX3llVfkeyim6sZZsNZ5Lfb+++/39hTG3LlzRYA7q87bUz7Qrgz0xx9/3C6++OLWWdB24sSJsu/333+Xbd68efa9994TIbf55pvbF154wft2cspBATmvxH7yySfVNrEZ299++61ddtllxZjq3bu3jO2w0OXvcePGiVGG8MEgY77kg7574okn7N57723feOMNb2/5w/2ecsopYlg678/buxBVQKqAoKixIuK9xKYJxQAhCsJsTujJ30Gct2EmTZokeYPWrVvL97IIXQ0dOtQ44WGcdertKYwVVljBHHTQQeZ///ufmTVrlre3PKBdCQ9xXfQH4TE2XH/CI2zkbLbYYgtz2GGHmbXXXttsvPHG3rdrFuQg7rrrLgl5VQeM7ZVWWmlBGMUpJAknh0Nk9MGgQYOM8/zNGWecId+Jy48EIWTjvCfpD2fQeXvLH+5/zz33NO+8846Ef5EFihKmJBJ/yy23lH9Juv3www/y/0EQEueff77p0aOHcV6Dt7f6mTFjhnFWpWnTpk1R4rBHHnmkCPjnn3/e21M+OCtdclUomyZNmhhniXufmAX5IZQUggNluvLKK8u+mgZja/LkyVIcUl2gXNZdd12J8ZPbiOLJJ580U6ZMMT179ow0yOIYP3689M/2229f4/pk9913l7FGUQKyQFHClEQBMeiwAuMUEFVjJOKOP/74RFZgqXj55ZfNtGnTRAkmuY4ff/zRzJkzR6zcKLjvNddcUwR9ucG1Y42S9MZA8C30efPmmbPPPlv+HwFKO+ARFqtfsHznzp0rVU8+KGn2oSyKDfdQDLg2rjGpItt0003lXr/88ktvz0J+++038YzxfNJUBjLOUFo//fSTWX755b298TDf8Ji+//77orVDVcDIIdH+0EMPxc6ZXHAPFHgQLSnk+1mDMYK8CI59pSIlUUAILyYMgiYcCsES79+/vxkwYIBY2lkyffp0+RelkSv8N3XqVHPssceagw8+2HTt2lWqkF555RXv04XgQTRt2lQsVgRBueBb5vQHlnrz5s29T4yUg/qTm+vfeeedzeWXX16UKisE72233WYOOOAACXFizd99991mr732klDfeeedJ8K1nEDxvPjii9LHVDS2bNlSBGgQqryoYgp6O1R6ooDwqsP06tVL2hxPOw0okg8++EDGZ+PGjb29leGaR40aZTp16iQb1071WSkUfFqWW245qY6NMkRzQTUt42P//feXe9p7773NxIkTy0Kx5gMj5OKLL5aQPPKCFMOjjz7qfaoEKVnSBeWC5v/iiy+8PfMtNEoviQ1vtNFG3t7swCsIxu+jQJGcfvrpUlJMGOWxxx4zm2++ubnlllsiJwPeBQKdMFA+sO6eeOIJKeFOsz399NPm119/9c6SHwQRggy4LkpkL7jgAlEC3JsfMgXaglAPyqgq0DYoabwIjA2EMxMSYc5aIXJQ5DaiFHlWcM145wg8lBDGE+1GaBXhByhxDAyMkuC4Ybzz/XC/cOy4ceMk90OeLQ2Uz9N+LVq0yJn/GT16tLnyyitFWNOmjz/+uHnppZdECGYNBhkhR64xKRip5IaZn/54Z3kG/YBRUyh8l6hHeD7l21AeRA+SQP/ffPPNooQGDhxonnnmGTFcTz75ZA1DRlAyBYTlgyCePXu2/M3kJN9CIvzoo49esJAOIYxVfNppp5k777yzyhYxv0NHY51+9tlnse4vQpljGjZsmDMmjwX/+uuvi9XONTMp7rjjjliltfXWW8s1JPGAsAoZ3HEbyo4NgYKiQgEyGZ977rlUCghB1rdvX8n/MJG5dwQbE50+4t58uHa2qsJkJ8yKYF5mmWWkHwj3MSnxNhH0jJFgXgPhnsZq96817RYHa9NuuukmyU0SmqWNEeQbbLCBrPEC1oqxJqdDhw4VwpQYJUB7+mE7/iX01q1bN7PJJpuIUuf3MQIuvfRSc+6550p+JA7GMeeg/eLGG+3MvKJtCXcR+kZ5ovDDXj3nq4oQ5Nr5Pu2SNLRE7oqQblRoMgp+Ay+SPCqKl0gK84SxyjwNGkbcI2OGf5OAbMHgYU7FzTfmWnC+odDZ8HpzjR0frptik6222krWgRFJwFhlrCsRuEYtCc4ak7URnTt3ltJY1sc4xWMffPDBCmXZbhBLeTCl0JQwuwHufRKNUxpSwukElbenIpR9OwEtJaCUebMGJgo3iezhhx8ux/CdOJyQsE5w26OOOsq6QSqlsJSOOgvYO6IiTlnJ8U7Aenuyx01+Zo6sUXEWoLfXWued2u222866iSl/0y9OaUeWzSYhWIbtFJwdMWKErO1yE9Cussoq9oYbbpDfoM+dV2TdBJdjgf501qZ1HkOicvzp06dbZ1VX2pzCsC1btrRDhw6N/Jyyeye0vbMshHHnrFXpb64vyPjx422TJk2sMyqkXP+MM86QMR2E66GNWds2ZswYOR/j5JhjjrGTJk3yjppfJu6MMHv++edL2T7XFIfzvuReLr/8cm9PZTiXU5jSvpQ1cw/8vlN8FdqR66Ft6H+WPETBvKI8PHxvPk4J2GeffdaedNJJssXNrSDMk3XXXVfK04PwW1Fl2FyzUwTWKVzbvn176zxmuZ+77rqr0jx1hoD0B21QLjzwwAPWKRtZ8zVkyBC5dmfE2gkTJnhHzEfLsOdTMg8I6wVrCU8ALwfLHW/DCbwKHgcWGyvusXTIT+TLPWCl4pFg1UdBvNkJQQmf5LLQsJrc/ef9PfIAWJaUaxNCInyIF0fMPwr/fG4iyb/lABY70M7BqkOs6z322EP6ALBSr732WvEcqwqezyGHHGJ22mkn895770kiGasQr4HfY1W/U/7e0fMTtoQu8Dzol3zgBWJZhjc8DnJ75GiiPseaxfuLglJnvB+/PXwoT99hhx2kvJs8Vtu2bSuFKP0neOCJcAzFA2+99ZbcYzB8xvfwCPBo8Jp23HFH75PK0A75xhFzijwV484peMm1OcNKLO6gB4THcu+998o1Mfaj4DExtE/U51wLfUhIkjmN55UEogZpwrlcM/2ALCB8deihh5p27dqJN40H74OnSTjNKTAZO+UCsgLZhxdKyJD8Dx5vXXncUFpKpoCYtMCE5NlgxFCZuKwxCcJgZ0AzSP3HkvAdXOsoEJootLiJSQjMWVaS9M2lXJgYCBrOFzchUaAoHUpnTz31VNO9e3cRoIRpuKcouHbuJSzEomDi4OY/8sgjqTYmZpoQHEKFa2IC+6FPID7Po124VtoT5c71I2x9EDzBLS0IKowFBC5KO04Yofw4jnBXroIQHyoohw0bVmlzVqeMAUKOUZ8T9qJaMQxjhbHJ70eBYB88eLCEhxCIYWhXcjyMGe4Fg4t7RgCF74c2Zg0ceUV+l7anP8PjkHPmq35jPFLuTEjPeSWSrEdRoOD9OUK/IcC5LgRkXDiPa6cPouYD/UYYkcIABGxSCFlz3qRwrTyiiDzlKaecIsoUY4ZCDvJu/hhEBqAwUVRJH2fEvTFvo+ZUro3QHM+2ywftTT6VIh5yq877leIR5AUhPqUyJVNAPA8MGPQknbEAEAxhEFBYjFhsDLwXXnhB4rTkWbBySgVeGGWiDOSoCcJ1Y00zsYljY10ykKiG4/i4HA8WPCRJOKNk8dj4rTQbebWkk5rfQChzPVjcwbwF908xAAKSqiMENAl44P4QuChf8h/+duGFF0qCGA8kCZwXbxRPCGs9DMKSCY53Qlsw4bFsyw2UN54TBkkUKBIsd9qbnAxeGEUeUZ4yuQi8dKrb8Cjw6Ml/4qkGlbw/RpkHUf1Nu1JoQL6CSkOqS3mmIZ4ux3MujBzybVQ7kkvBEBw9enRsBKHY+Guygt5LLlA0eOHkBvv16yf3xDPlUJq+UYpBRZ6Fe2E+MGYYO/mgTRhv4fmUZMtXxYccoQ+ZI7Q7D41FXvCsN/rxk08+8Y5UgpRMATEJsKwRllh8lIZGTUY6Dssb5YOFQ0cjCOnMOC8oKQyE4IQOgkWHdYmgjVJ0WDy9e/cWb4NJzPEIA/+Bqa1atfKOrAj3gkBHuOQDyw4LD88qzYaSSJrUpP2ZnLQvJaFREC7CM0DAUpCAcKKsF4GI4uJz7hnjAIsODyIuBBkG4YqQJRwXpYCw8jk3FjrhTpQk11puMJbxGINhwzBYv4R9CWHiaUQtssa7oD05H8UFjDMMMAwuBF0QXwFxvrCAZVxzPJ4CVj1jjg0vDmGPF4tSxOCgvzgeoY4RyL+5ogNJiJtXYSjawMj0IyL5QAFhsKIsmHNUqTIGGW/MV/YxBhlLjFcMG/oliYLjPPvuu2/knMq1UUTiP90lDookkBcoepQc14nSxMBjjHfs2NE7UglSMgXEBGOQEGbAaowru8Y6QvFgzTE5CdOxhuGaa66RjqMiJVipQjUKQp7Qlb+PY6LWX+SbJAxkJkfUwj0GDte86667ioAklPDAAw9IFRehjriyWIQFioWnf+cDgYEQSrshlPhuHNwL5c54K4RMAEWP1YiFhleH5cwCVCYY7c2j8Ym3I/RQQHiweHtMbvJePLGYPiX0xXeSPMECA4IyfIwKfyKG8XN/KFQmKaXEPCG53OBeCM/R9nGgOOkXFOkRRxwR2UcIVjwkhCeCinVXeC94lXhQCC4fhC/7sJ79NWs+HEd7ouhQNvQbCgkhCHgPvhDEGGKM02cYgpwTxRScQ2xjxowRZRiuEuO7YZirUaG6MIw7QlMs1E0CCpT74ZoZN3hvKFjGrT+nCAGiQBmbjEvyaLRVPugPlFDUnMq35VNw5PWIlNC2XB/3jfFKFOWss86KjP4oJVRAdDZhNxbfYf0GQz8+CEoGNwKP4wnDYBHutttuIvQYZL4V529R+9iilE0+BcTkR0Fipfnxch8scV6VhODBAsLr4NH7119/vQhgriEMExKvgRxB0pBDKfAFA8IOIwBFQtkw94jCJQTEBOHeuE4sd9Yp+I/FRxmgBLCcUfYoI7xYzovQQxFFCdcwtD/nYh0ECjsoXIPgpWGIoOjpy3KEpHI+rxbDgzbDm4x7FQV9gEJBIRNqZAkC90wbcf9BEJYoGPopankCnzFGURrMMfIOKByMj2CehjmGgcfxvhFA3wTnj78xrlFmwX1R84j7yDe/AAOEHFUuxR0EI4m2YywSHaCABaXK37QHMK5HjhwpCr9cvGXmGUYEnh5PvGC+cY0YgGeeeWakvFAcbhCVBCespGzSCTpvT2UoyeVVDU5JyasQnMVuXcdJ6SalmHzuBnqFjdJdSi+dR1JhP78XhPO6gS/lsXHwPV4LQamsE4De3oVwTjf55TrY3MCPLVEFylzdJCmLpxZzb1xvmi3MtGnTpBR28uTJUk5KGXcuop6GzXlpw1zt1r9/f3kdhvNu5bqr8kRt+pFrpty6WHBOZ+HKE8RzQWk/pcm57tV5PtYJWHv77bfLOOEp18OGDbNTpkyxzuKv9F2e7O08JOsEs7enIrRXeIyGGTVqlDx1nqdxsxzCGVwLnj4f3J566im5rvBnYa6++mp55QQl+7ngc+fNSAk11xgEuRBVhs39cw+55hztzOtEKOV3BpXcD/eVNeFrzzXutQx7PiXzgLB2CXHhmsbhOkncVKxt/+nAWNd4EXhCbvCLpR3cOG94n78f3AAQa51YvBsAYvFjXUfB96huwsUPx9+Bc3JNWIRsWDFxVrwbaFJ5hVcVrCLLCu6N602zBXFjQ0rP8Vyw7mhPQkZ4TmngvLRhXLvRX5yXcAqhDpK3ucZMPuino48+OtYDKQQWi+JZ5AsjYeXj2cTdK5AP4z4JNeN9cl7agBBT8KkhPoSkqOgkFEbuKAz9HB6jQehH5gDj0w9pMx841p87wY1rD+/zYT4yt5i3RC34f/6Ngt/Fm2EOEsbmGpPA73MPwfsJtyfXQUiScUkhAk+poE2zJnztuca9Mp+SKaCk+JORjqPMk5ANCXDCXlE5g3xQhcbaAHIxQIUMIYk4qFQiNk7MnIlVKKyvYK0FSeHaMOhoC8I+hHLoI/JhGAnkCYoJAo4cEAqDkBS/heFSKIwjco5JcgJJIQxEbL8YUOGJIkOxcJ+MeSriENJRygslRW4Ow2zChAki0NPA+WgLQlUUkRAmJBQXVCxJQKGgICkO4l9yoswrDEgUaBhyssxFwlEYF8UEwU7YmNA54UzGZjkoIKUA3MDKDFxUVmb74S9WoI8dO1bCDnwWxciRI+XJCb/88ou3pyLOKpNwHiE6NkIe+dxzQj6tW7e2TllFhhzy4SakPfjgg22vXr0qraKvqRA6cF5ohaciEGKMCykAIThW9hNKIoyTFNqM7/F75dh+hGgJExYDQm3B8OCnn34qTy9gzMZBm/NkB8YYK+pz9UEUhIMIHxKC8+daFMytwYMHx849wkXOyKowt7ju8PWwnzfFdu/eXZ5WEEVcCC4J/N7MmTPt008/LU+nqEkwL7jmyy67TENwjnr8x9NFNQIsKywurEXc3GJBmIXyb6q8ggncfBCaojKOih2q44LPNqtrUKJMwQIWL8UnSUtvyx1Ka/HSqxIarCp4pDzJgHAlSW0/IV9M8GwIq+FRpPWQfJxyEC8Pb4sHsAafvB6E32GdDJWFFFDUBQgd4rWxjonQIcUZFDQRhq2r1DgFVEoYHIQ40ghOFBD5KkpEWftUlyEcQ7UVoVPKTv3FyEpxQICx6JQqy3IVWiggFp8yj+KUD2BEEj4j5J7mHUk1GdqG9W6sjQPmCCHYpPmx2ogqIEVRFCUTMi9CUBRFUeomqoAURVGUTFAFpCiKomSCKiBFURQlE1QBKYqiKJmgCkhRFEXJBFVAiqIoSiaoAlIURVEyQRWQoiiKkgmqgBRFUZRMUAWkKIqiZIIqIEVRFCUTVAEpiqIomaAKSFEURckEVUCKoihKJqgCUhRFUTJBFZCiKIqSCaqAFEVRlExQBaQoiqJkgiogRVEUJRNUASmKoiiZoApIURRFyQRVQIqiKEomqAJSFEVRMkEVkKIoipIJqoAURVGUTFAFpCiKomSCKiBFURQlE1QBKYqiKJmgCkhRFEXJBFVAiqIoSiaoAlIURVEyQRWQoiiKkgn1rMP7/xoJl//vv//Kv//884/577//vE/mE3d79erV8/4vOUsuuaRZdNFFvb+UKIL98ffff1dq/2L2x9JLL+39n6IoNZEar4C+/vprc9111y0QeEkUUCHCDjp06GB23XVX7y8livHjx5v77rtP+iGpQVBof5x66qlmww039P5SFKWmUeMV0Ny5c02bNm3MhAkT5O8llljC7Lfffmbfffc1iy22mOxLgq/AZs+ebaZMmWK+++47M2nSJDN9+nTvCGN2331388ILL5hFFtHIZRyffPKJ2Xvvvc0XX3whfy+11FKmW7duZocddpC/k4Li+uuvv8yMGTPMp59+ar799lszceJEMTh8DjnkEDN8+HDtD0WpodSKENyrr75q2rVrZ/78808RRngpffr0MVtttZV3VDIQer/99pv5+eefzR9//GF+/PFHM3r0aHP//feb999/X849cuRIs/POO3vfUMKgxAcPHizeye+//y4hywMOOMBce+21Zt111/WOyg/9Sn/8+uuv5pdffpH++P77781LL70k/YFxsOyyy5qPP/7YNGnSxPuWoig1iUUvc3j/XyMhfLP66qubNdZYwzz55JMiuGbNmiXeDwoIIcUxSTYUTP369c1yyy1nVlppJRFsLVq0MAceeKB4Vm+99ZYoJ0JxSjQonDXXXNPMmzdP2ov++Pzzz02zZs3M5ptvLu0Y1fZRG/1B3m355Zc3DRs2NE2bNjVbb721eD54ph999JH8Dt5uOYHifPHFF82dd94pbcG1K0pVueWWW8xDDz0kBnatyUU7AVEr+Oqrr6yztPHmZFt88cXtvffea51X5B1RNf755x87dOhQu+KKK9opU6Z4e0vDjBkz7DfffOP9lS1cy7fffmudUPX2JGPixInWTZQF/eEMAjtmzJjU54nDeVq2b9++duONNy5ZW82dO9d+9tln9t9///X2JOOnn36yl1xyiYxBp4Qq3DP/P3v2bGnTcsF5qonGNO0xbtw42b7++uui9WVdgfZyXrz94osvvD3pWGuttawzqO3UqVO9PdbOmTNHxhPyKQzjls/8Pvvhhx/Krs9qTfC8cePG5sILL5QwD9YzoaD/+7//Mx988IFY4VUFi+Pwww83J598srn77ru9vcXFDQ5J4vM7WP7lgBPA5uCDD5a8WBqcYjDHHXeceJJAQcKhhx5aIYdTFfBwTzjhBLPFFltIWK7YkHOir8eOHSv9kgY30SVEuNlmm5kNNthAxqMPea1bb71VLNlygbxnz5495V6pYIyCNiDUTX7vxBNPNK+88krqdilHGJfke8ObMyIqyA3ahX3h45LKFo4jjE8+9J133vH2JoecKiFoim6CoWyun7574oknROYF4W9y1vQXeXHSB3H9mxmuYWoNaPcRI0bYVVdddYHl3bZtWztr1izviKqDdXvmmWeWxJJ49913batWreTfUpy/UAYNGmSdoBdvKA3z5s2zV199tV1++eUX9Me5555rf/31V++IqsM19erVK7WXkgsnWKybtHJe+jsN9Ntzzz1n69evb6+66ipv70L++OMP6wwje9ttt3l7yoM333zTdu7cWf6Nakv2PfbYY/aYY47x9tQOpk2bZrfbbju79tpr20aNGtmmTZvarbbayp566qnSVz7Tp0+3PXr0sKuttppt2LChdUrA7rDDDonHx5dffmnbtWtnr732Wm9POpA5eNSPPPKIt2ch9Nm2225rn3/++dh5cPbZZ0v/ETkoJ2pV+RCWJvHRrl27mgYNGsg+LIDrr7++aNYa+aEbbrihglVbDKjmu+mmm8TCIW9Q7PNXBaw2cjhOeUihR1Log+7du5v999/fuMkj++gLPMhiWWLk/vB8i1UJxzh58MEHxYPZa6+9pL/T4FvUeOTrr7++t7f8ad68ueTX7rjjDsmhZomTS0Wbr/kgr4hH2rJlS/F6ySc7o8lcccUVkq/0IR/sFLTMA6eEjFNG5t5775UccxKY24wNpwi8PekgAsG1MibDbL/99rK/d+/e4n3XJGpd/SoJ306dOplddtlFhB6D+fbbbzdO+3tHlB9MtpdffllKjo888kiz8sore5+UByhDlA/KnNBLGpw3ao444ggRxpyH/rj00kvNqFGjvCPKC0q+6Ys999zTbLTRRt7e5FCtR9HFTjvtJOeoKWAsbLnllhLqIdQWDudUJxhjzov0/iotFB1ts802ssQCIwaDBiNwhRVWqGAEIktWWWUVKaShbgtFEg6vxkGl5l133SUh40KKB5gzhEkJpUUtvuYazjnnHPPNN9+YRx991NtbM6iVCyiYSJQBY60A5cDnn3++lFSXI8R2qZrCwsH7KUe22247ybcwkdLA5Nhjjz1kwjZq1Ej2Ud5+5ZVXipdRTjDRx40bJ5OddUuFPGmBknFi/QixFVdc0dtbM0C4MmfefPNNUQJZMWfOHDNkyBDvr+oBBcNGlSt5ujDM0UceeUSMQ9Yd+h59ElgSstZaa8lyhEKgmpT8U/v27b09laFSdO2115ZF+ci7mkKtVEBYMrvttps5+uijxZIBrFLWoiBcyg08H1xsXGlCN+UIbcpaKxaDfvnll97eZPBdwhd4pkxcPL53331XwhKEq8oF1hxNmzZNkrxYt4VACIRQDqX7NQ0MhE033dS89957ZubMmd7ebMAYqE4wNhDiCG9CZWGmTp0qc5R+9QtrksB4eP7552U5R5qF8UEef/xxCbGhxOLA0Dv22GNlbuLF1xRqpQICVuAfc8wxUrWD20vOgdBCv379vCNKB+tTWANC6O+2225bsPG3v+FJIKiAsAdWH+GqXJYVi2Sffvppqc5CoF911VWyDqZQEDIDBw6UeDYVg4QK2CZPnuwdURHCSrj5hOLSQn/ghSLggHshLFrqarBnnnlG2oq8HcKAe8P7Ik9IPipoLSJkRowYIQIGYZQLqisvvvhi06VLF3PmmWeK1wN4sJzXv89CoH1PO+00uW5yEVXxFPHIBg0aJBGBSy65RJ5U8cYbb4hFHwVjkHGZtMKLa2Oe0QZ4j4wpDD3G1PDhw0WpZwFCm7AxlZgPP/xwpXlCPxMu9fHX/lGlGT72q6++knmy4447iiJJEnbzIWSN94LXlA8UFf3OmLr88sulr4CxSp4zX2Vs27Zt5ZhCquwyww2ykuMsCqmIcu5tqs1NHu8MheOsAbv++usvqMKiyiW8NqOYUGlCvT7rhZz3Fbs1adLETpgwwTp3395yyy12o402sk7weGepDJVjTrDZQw45xD711FPWCTypSHKeXkH3wpqc3Xff3Z500kl2/PjxsmaqWbNm1glQe84550Se0wkX6yxFqWQrFDeprJvo0hfOM5LqOqp3SgEVcltuuaV98sknpd+dArXdu3e3DzzwgB09erR1Hqft2LGjd7S1L730kqyzuOyyy2KriWgXzrfHHnvYW2+9VfrhxhtvlPVI/njN1R/5quCcoJPx6gSodYLEXnTRRfb444+Xtk/Ljz/+KGuxOnToYJ0gtM7jlDZYffXVrTMGItfIUWW13nrr2f79+1tnJHh7o6vgGJMHHXSQHTVqlFSFbbjhhtK+tItT+NYJa/ksLawhC/ZLGmh7xjQVbQ0aNJBqRCrcmPN+nzpDRK4VueTz2muvyVhxhpIdOXKkt3e+7KJNnAcia3jSQjtwDaxTzAUVl1SyMbdZs3PBBRfIPOQ3uadcYypI48aN5VrD1OkqODwPknxYhXEb8WcqccgzkMPhKQYkB8kXVAVi2ngjPrioPMoFS7/YsI6CRCEeyttvv22uueYaWbXPc+pwj0m+s58QByEo7pmqMqxRQgB4CXEQB8ZbII6MV0dVDlYclnhUyCAX/L4TbBKeZA0BVh1rdOgjroXEbJSVt8wyy4hVXJW1PCT2iYlzfjep5PqHDh1akpAPng6WJAUQWOJ4OxREHHbYYeLNOeEp6yf8qi+8ZO6P6ifChlHgAZIgZ6weddRR0nZYuYRn/NBHGgs5CLkHvEQ8COL95JB8jwXvLA0UEXDfhJxvvvlm06pVK+MUmXHKRSz6ffbZJ9LbZlwRimN85vNeqGZkDOMZEGXgt9ZZZx2Zw3g/9C1tTptWFzwtAI8Pb4D5gjeKN8vjoRj3QPUa4eBgQQB9zrjneoPXzHzA0yVc7Ife8JCYj05ZyJzPBWOLcZ4rH0j0g+t0Slf6BW+MtuN6Cc8znpKOKb7LtaWVCVlRLQqIfAyJTRozbuPRKuRpmMTE4ZlwuPcIyarC5EMY+QOOCiwmZbHzDwMGDJBBievPgEOoMkEp2+S3NtlkExEKTFL2MagY7ISGGPzBss8wDFLahjZCiSKsaFdCZ2kSos6zFIFPuATXnpCLP7gJFZDIjCr1BNqPAc41VwUW2lKejZBnclL2PGzYMAnLFQvah6ITBDmhFoQphg3Vkfwu98w+Jmrfvn1F4PgKKFesnvDqPffcI33LOKXvUELO6pZ/qwLjkrbFOKKPuTZKoxlPXHdSaFMMHvqTPKg/1tjPhrFDRZff70FIsiOw+e18igNFxhgEFDC5M8YjlWQsh3BWvCijqN9BQWJcIuDDG/t9wyxqi6vQwzhA+SC8KWJAmJ9yyinydHbKq5k/fN95wOass87yvjUf7ptjgD6gnRgPjA1ys8GcIGFcwugoMRZ35oJ+5Fy55ijzkbHI3KZNOZ7fJLSJ/EgDMoTvqwIqM4it8hBRfzJg+Tq3u6jWGRah/wBUBBOCBIufwcWEipqIDBaEJcI9zuoGhAKCgxJQzomnRXyb+0oD1joCH2GMwPCVMtdIlQ+JThR2FFw/MeaqDm7OgaBCuHJO7h/BgXAvFkxE8jJcKxYh6zUQIr5yod0R+HweXOsT1UdBEFQIBfIKeOitW7eWvA/ebVLixhwGCtdJ23CteNL0E+uo0iSwEcRcH0YNuRgfvCkMPa7fXycXJp8hFATvkrGCF8A48svWUUB4/7169Yp9UCzXQl4DYyS84QVyzqjP2OJylNw3pc7hZD0RFvoKD40cKmt+wveIkva/x9M/UEIoF3KIrI0KjgvmuL9cgjVyucCoor9zzW3ajX5nPRIeKnMaBeTnr9PgH8/4rglUiwKiMehQXNe0W7Ggg3HP/cmHZcygzCdwCgGh9vrrr4sFigWI18G9RP0WAwaBTBvlGjQMegQSoQUm9bPPPiuPyMF7TAoTwbc6KasOVtz5r50ICuMoUBa5JlNSKDlHgCGs8HJ5wCueYTFBmOL9EN7A8yTk5oOwItlOn/gPl00yFhBmGAGMH8YSwgohjwdXVVBknAvBgyDCWECgIjTTQPgM6x0hGwz9+MUuPCYpTgHhXSQ1MLDqaTNChIxjxnpSaEdCsVj/4Y0FlZTBR33G5iu6MDz6iDBjlAKlrzBw+E0Mt3BCn/bAyGNs40HRViwdoAgkSglwDF5kvggNYXXaKJehy2NyMCipMiVlwKOliBDwcOW0+DIkyVguB6pFATHoaUzc4jQbuZpianJyGFiZhDMYqKVac4OQxu1nohPiQgHhYUTdC0KSgY+HFBVaQHEzIMmjkafhvOQIUD4cn2ZtE5OA83F9KDE8Kh8qZ5iUWN6EKvg7fD0INe4jTnilgQnC7+OFoQCwJLEoiw0KiPtBEATPTy6Oe+H3EVxcjx+a4z7D0HaESPByMWYYm1Q2EuKh/6qSU2RcUPmGpU012fDhw03//v1FYRK6RRimgbGCEiE34xsLXD/KkrnIAln2Ry1axDjBcPKVSxK4doQ+XkFSEOq0I30S3lCazIuoz9gKKWdGUeA5obyi8jHcK+Of+yZvgzdCCC9otAQhhM25uBaWJmCAUMUWVjR++DMubMjcpsKOkCD9TpUueV6qF/0q2TT4kZZC2igLqkUBMdjpXAROmq0Ygs6HhXWEBZiEuP5+qKwU4P0w2PGwgMHHwECoI/SC0C5MCDwklEMYBAKeAo8HQciRCKWwAYGNUA3eB14ME4eEadTjVPyBibDgPExyQEiTsOUpEoR7yNdhMIQtYcIJ7POTsYXCJMVzQ4CjoBG6KIJSgKfD7/kWLtAXLPxlPwlmH8Yp+1DQYUHCfaN0Tj/9dGkr2h4rHcGBJYwnVyhcD32GMiO3hKFEbgVviLZG6PpwXVjxjAfuLQo8Se4l+NoQwk8Uw3Dd5Dr4nRtvvNH7dCEoKMYcHhjH5gMhSbIcYw5hW674Yz/XOh7mIREA8s+E5xmXUZCnYfwSJmOuczxtyXgOjxs8ffoCpR6GdibHRL9T2INCxjggf4f8YxykBflC36kCCsDARLCR9E6zEe+l86oKAoWwCaEC4tJxOY5iwWDEksICBYQfiobwQVhoMFAIhTFB8JTCoLxQTOSvsNSBcyAMCcfhZfkQYmBAo7DGjBlTyeriN6hwYmPwI/j4TY5HYTIBCAGgrLkmX0H5oNS4Lz9ZWygoW/qDPBkJ9uA9FBvaHGhDfg/vBgVCfJ+wB16lD4KJyUubhI0BXzEROsIqpi05FwltlCjju1DwgPg9xryvyAiVoiS33XbbCmtIMBZY7c44xkuKgiIS+slPkKMkaAeEJYqCfmYdGoUTYTAy+A0iBUkUkP/YHkJc5Q73jocfFaIDDAmUEP2PYcE8iQJFTpuixDmWeY6yR3kwLoIQ+sXbo+3DcKzf74whoN/xKDknValp4XyM6fB1lCvVooCyhMlNBRxFB4SuqM4pZecgpPAgWrZsucCqRwEj3BDsYa+Ca2FiMNgZzGELiklBuJAwEslZBit5ASwrPLrgvbCPR8AgED788MPIqjLKj8844wwpJSZkQl4JoYdFjVKiaoqJRRggrPwJWzFB46rkksD9kWTFamZhJJVjpeoP2prwBm2Lp0hVEYs7CT1h3SKAMQx8UD7cN/0Qzj9iKKBkUL4sasUDpZyb8AvKlHYvFAQ9FVV453hY9AEb7UK5PEaBD9eBckDBoKCiIJmOEUSRBfd73nnniTGBZY3SpDqNeRH1Ij88IKxvxmxU7iMMVV70ab5kfNZwX3gUuXKc3Dd9Qb+Sl4nzIqj4Y44xjohq4KGSs6HEPzyWMXY5J4o6DGFBjGxCrHhB9DnnoW8pREkbFcDgwHgotYFdVNzgqdWwKM5NJnlNgxs03t7S4Sa2LCQLLjxzk15ebOa8jMjFf7zciwV+PXr0qLRgjfM5YSiPjWfBKAsf+X9nKVVanOaUn7ygqk+fPnLfzu33PqmIc9PlBWScyyk2Ob+znOykSZNkH9cTPje0b9/eOiuvSu3I4jqnVGWBYqn7w3mKaHNZdEi7OqVsP/jgA1mgyv2G75G/Bw8ebFu3bi0LdcNwvU7gygJi+oL2oq3S3IcTELZnz56VFqLSB1OnTrVOMUsf0D/OY4t80djs2bPl951S9fZUht9hnHA+zuuU6oJ+57u0Tfj+ncFinbKyThnK6weCMIbDC1GB8zDeo8Z1oVRlIWocvXv3lgXGzJs4nCKQ/v/4449jFyIDr2ro0qWLLGZmYS9tQlvGfccZAfLKhyj8uZ2k3/PBInVnUEUu4C/Xhai1WgE5C8U6697ecccdkQK1XODauEYG81tvveXtLQwmAUKEd9LkmkRpQWg3aNDADhkyxNuTnptvvlnO4Sy1aukP3pPivDjbpk0bb09+xo4dK/2AAs81WQu9/jgF5MN5k5x7+PDh8q6lfKS5TvqlefPmMhbDY4e/oxRQKfj888/ljbLFAsWCErj99ttzzgnais9ztdmsWbPsgQceaAcMGCBGTIcOHeSpGCh558FEfpcnnDjvq8KbTMPwvTR9FQaF1aJFC3miSRR1+kkI1Y3rSEki8qw0VquzFSvMg4tLCaZrO29P1eHaKL0lhOasU/mNQuCaqM4h9ESVWzHyZ+AmpeQcyEcQZkgL32eNERU+lMIT2y5Wf1AtxJqSYH/Q/4QfeQIG8X5CG7Rpkj6jPJ0iD8KNuarPinX9YThvvnMTHqQ8mFBRPpJepxNMsrCWUCUh1mKNnUJgMTR5yWJBgp/7I8+S675oKz7P1WaEjglRU+hBWJNwJ8eTQ2V+RH2X3BChfwpemJtR8L1cv5sLxjVFLIzxqLBqOVPrFBDCh/wHaz+oQiOmHpd0TAsdjSBFGBc6WOJA+ZCTYQGhc8UTCcsw5C5QvOQIilVVxnVQvMGaFPJEaUH5UCrO2g6So8S8iwX5NsrSwwsFqQYk38dTKYj7s2Zq8ODBUnSRD87DJGYyUyIblUfLGnKa/lqhYsCcIW9JcQaFLbmWJ3AsQpR/awoU7ZDfyXVfSWGeUqBA0QVjxX/ALjlacrNxkK+leo5cUCFzOw7ORU6KEnCe7hIuMff7q5i/WUwWvYwMai2BRmatBlVC/L//WJBiQEeyOptnp1E9hZAvNlhVKBGqYFirFEyQJ4GBxgThCQP5FpQmhcFNeSkJfIReGmgzFkXylADujaIDvxS6qnBuSsUxNLCWgyXACBysVMqkKbrgN0n4Yt0nsewpR6f4g6Qu/88YKpbBgUJGoXNN9FMhUPZL9WCSIoEkUBzDcwUpCMFAIAkehvmEh0ThA+OSjcKaYhtipYC1VPQ/hUHhys60MM5QPn6JNIqNBaSUZOdqC8YRUYnHHntM5gLjqxig1FA8VNuxNjBYuchYY/7ygkWMQJ6qQbFMlt5tmHpuYJWnaiwAKnLwTlBC6FXCKcWYIFjOVNFhxRP+QBHlWwFdKAwaSmQZTMH1H1mBF4A3gGWcZm0Bw4oKMcIOfI+2K5bFTh9QVowxQFktQhFBUGyYtJS1siYnzb3nAiMBgYCBgNAqB1DYKHPCq3ECmv5kHRqeJFAtiIIvJ2FW7iBHkB141WmNuTiI9rD8ghBf0AgDwo4YOzxOCDAuWMqhCqgEsMaDuDg5EJQPQqOqFiITEwFMXob1HqyDoYQVJafkhjAYHg8L4wgZEaaoKuRkKB9HEBJ2Y+iy8BbvTFGUmketUEBoetY9sGGVYa1jEefT9Nw638XCJ5+AZUI4gsQ2+3DdWXSGZ4VnghWMxRH3LCplPrQhBSDks+gLFtWRhwt7o7R/cB9/YyWy0S/0A+dCibGP1fwkgekXQnAsqEQphePeiqLUDGqFAiKuSgIQL4jQBmEElE++8Bu3jiBDufAv4RFf+Pn7giBMeTBksWLvtRHajoWaFAGg0OkPcgpR/RGlgIL9wbkwDOL6g8WCvPlSw0CKUjOp8QqIR2LwfCdKLYP4t4VSQYiFhReCL8kWPJaEd9zDCZX54CGymhvPJUiwP1Dy4WHnt7GvTPy/c21U/pTqGXKKopSeGq+AuHyEWnWA56PWdm6qsz+iqrUURak51JoiBEVRFKVmoea8kimERsPhUUVR6gaqgJTMoLiAxxrx5AdVQopS91AFpGQGVYuDBg2SRZCqgBSl7lFnFRCJcla586+mwbKB9w+x2JcHOhbrSQOKotQc6qQC4iVSPFhzwIABspKel0FhjSvVB0qfhaXA214VRal71DkFxMMxeZQODwdkYSkr6QkBaXl19cLaLLwfnuXGwxkVRal71Cmp+9NPP8lTf3ksTJcuXczGG28siod/i/XKBiUa3nV/4YUXyjtseBgnj9nheXE8kDPXkyV42i9PVSBXxNOYec4fDzhlMauiKDWbOqWAZsyYIS9u4jHyPD+MMBBPzuaR/ZqDKB0o/m7dusmLuXhMz8knnyxPruC1Frz8LA4e5UO4lKdfDxs2TL7XrFkz8+CDD6oCUpRaQJ1RQCgb/9lkvPeER7l89tln8oRr3u3DO1aU0kCejVAn78DB8+Gx8by3iFda5HqaAV4Tbzv1DYQePXoseJeKhkwVpeZTZ2YxCoeXNfFSKF7Ny4vfeFMmlVgIQyxzrYYrDTyvjTLrTp06yRskeWFgkhfToWiOO+44ed4f36dajoIF3irpvxBMUZSaS616I2o+yPPwaH+8HsI6VGFRis3bHUmG88ZApbjQxih/8myEPXm1NwtPu3bt6h1RGbwk+orcEGXyGAr8y0v6eAWDej+KUjuoUzMZAchrG3hnUKNGjcxJJ50kSW3COh07dvSOUooFr1DgTbK8D7958+amT58+UnTQuHFj74jKoLD69u1rJk2aJH/j/UyePFkUWPiNj4qi1GzqnClJ+TWvw23VqtWC9/K3b9++wrvUleKA54O3wkYxAW+VxbM599xzvSMqM3PmTDNw4EDTr18/+RtvCEXG67w5n6IotQd9GrZSUiijptyaYgMq11D0KP04WBA8ZswYebstr0MnR4cHhAIiJ6QoSu1BFZBSdlAx98Ybb5jOnTt7exRFqY2oAlLKDsKjzzzzjFa6KUotRxWQUlYwHMn7sF5LUZTajSogRVEUJRN0QYWiKIqSCaqAFEVRlExQBaQoiqJkgiogRVEUJRNUASmKoiiZoApIURRFyQRVQIqiKEomqAJSFEVRMkEVkKIoipIJqoAURVGUDDDm/wHTslGnCnKh9wAAAABJRU5ErkJggg==)"
      ],
      "metadata": {
        "id": "0k8n0Z3g_UkU"
      }
    },
    {
      "cell_type": "code",
      "source": [
        "#Definir policy_evaluation que calcula a fórmula sob a política atual para cada estado até a\n",
        "#atingir valores estáveis. Como a política é determinística, avaliamos apenas uma ação:\n",
        "#função de valor estável sempre que o delta for menor que o o limite, eps\n",
        "#quando essas condições são atendidas, a instrução de loop while é interrompida policy_improvement\n",
        "#pega a função de valor e a política e os itera. \n",
        "\n",
        "def policy_evaluation(V, policy, eps=0.0001):\n",
        "    \n",
        "    while True:\n",
        "        delta = 0\n",
        "        # iteração para todos os estados\n",
        "        for s in range(nS):\n",
        "            old_v = V[s]\n",
        "            # atualiza V[s] usando a equação de Bellman\n",
        "            V[s] = eval_state_action(V, s, policy[s])\n",
        "            delta = max(delta, np.abs(old_v - V[s]))\n",
        "       #a função valor é estável quando delta é menor que limite de eps = 0.0001 \n",
        "        if delta < eps:\n",
        "            break\n",
        "\n",
        "#Policy improvement. Atualiza a política baseada no valor da função\n",
        "def policy_improvement(V, policy):   \n",
        "    \n",
        "    policy_stable = True\n",
        "    for s in range(nS):\n",
        "        old_a = policy[s]   # atualiza a política com a ação que traz o maior valor de estado\n",
        "        policy[s] = np.argmax([eval_state_action(V, s, a) for a in range(nA)])\n",
        "        if old_a != policy[s]: \n",
        "            policy_stable = False\n",
        "    return policy_stable\n",
        "\n",
        "\n",
        "#Roda muitos epsódios para testar a política\n",
        "def run_episodes(env, policy, num_games=100):  \n",
        "    tot_rew = 0\n",
        "    state = env.reset()\n",
        "\n",
        "    for _ in range(num_games):\n",
        "        done = False\n",
        "        while not done: \n",
        "            # seleciona uma ação de acordo com a política\n",
        "            next_state, reward, done, _ = env.step(policy[state])\n",
        "                \n",
        "            state = next_state\n",
        "            tot_rew += reward \n",
        "            if done:\n",
        "                state = env.reset()\n",
        "\n",
        "    print('Won %i of %i games!'%(tot_rew, num_games))\n",
        "\n",
        "\n",
        "  "
      ],
      "metadata": {
        "id": "IWcX63-N1pYT"
      },
      "execution_count": 7,
      "outputs": []
    }
  ]
}