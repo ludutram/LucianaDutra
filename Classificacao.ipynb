{
  "nbformat": 4,
  "nbformat_minor": 0,
  "metadata": {
    "colab": {
      "name": "Classificacao.ipynb",
      "provenance": [],
      "authorship_tag": "ABX9TyN7at54pSYLHLpRSgn7bxPG",
      "include_colab_link": true
    },
    "kernelspec": {
      "name": "python3",
      "display_name": "Python 3"
    }
  },
  "cells": [
    {
      "cell_type": "markdown",
      "metadata": {
        "id": "view-in-github",
        "colab_type": "text"
      },
      "source": [
        "<a href=\"https://colab.research.google.com/github/ludutram/LucianaDutra/blob/master/Classificacao.ipynb\" target=\"_parent\"><img src=\"https://colab.research.google.com/assets/colab-badge.svg\" alt=\"Open In Colab\"/></a>"
      ]
    },
    {
      "cell_type": "code",
      "metadata": {
        "id": "8VjIsPIQorUq",
        "colab_type": "code",
        "outputId": "6c3103e6-9f7d-4ec3-ae14-fc8c0e3e1cb6",
        "colab": {
          "base_uri": "https://localhost:8080/",
          "height": 85
        }
      },
      "source": [
        "# features (1 sim, 0 não)\n",
        "# pelo longo?\n",
        "# perna curta?\n",
        "# faz auau?\n",
        "# cachorro (0)\n",
        "# porco (1)\n",
        "porco1 = [0,1,0]\n",
        "porco2 = [0,1,1]\n",
        "porco3 = [1,1,0]\n",
        "cachorro1 = [0,1,1]\n",
        "cachorro2 = [1,0,1]\n",
        "cachorro3 = [1,1,1]\n",
        "\n",
        "#selecao de dados\n",
        "treino_x = [porco1, porco2, porco3, cachorro1, cachorro2, cachorro3]\n",
        "#classificando os dados\n",
        "treino_y = [1,1,1,0,0,0] #labels / etiqueta\n",
        "\n",
        "#importando o modelo Linear SVC do sklearn\n",
        "from sklearn.svm  import LinearSVC\n",
        "#definindo o modelo\n",
        "model = LinearSVC()\n",
        "#informando para o modelo quais são os dados e as classes -aprendizado supervisionado\n",
        "model.fit(treino_x, treino_y)"
      ],
      "execution_count": 0,
      "outputs": [
        {
          "output_type": "execute_result",
          "data": {
            "text/plain": [
              "LinearSVC(C=1.0, class_weight=None, dual=True, fit_intercept=True,\n",
              "          intercept_scaling=1, loss='squared_hinge', max_iter=1000,\n",
              "          multi_class='ovr', penalty='l2', random_state=None, tol=0.0001,\n",
              "          verbose=0)"
            ]
          },
          "metadata": {
            "tags": []
          },
          "execution_count": 4
        }
      ]
    },
    {
      "cell_type": "code",
      "metadata": {
        "id": "lCZMTGLVUw9i",
        "colab_type": "code",
        "outputId": "6cea2f19-b87e-4759-c9b7-2aca24f15c0e",
        "colab": {
          "base_uri": "https://localhost:8080/",
          "height": 34
        }
      },
      "source": [
        "#pediremos ao modelo para descobrir a classe de um animalx\n",
        "animalx = [1,1,1]\n",
        "model.predict([animalx])"
      ],
      "execution_count": 0,
      "outputs": [
        {
          "output_type": "execute_result",
          "data": {
            "text/plain": [
              "array([0])"
            ]
          },
          "metadata": {
            "tags": []
          },
          "execution_count": 5
        }
      ]
    },
    {
      "cell_type": "code",
      "metadata": {
        "id": "ORPiaW4pV1KZ",
        "colab_type": "code",
        "colab": {}
      },
      "source": [
        "#vamos pegar mais tres animais e vamos pedir para o modelo prever\n",
        "animal1 = [1,1,1]\n",
        "animal2 = [1,1,0]\n",
        "animal3 = [0,1,1]\n",
        "\n",
        "teste_x = [animal1, animal2, animal3]\n",
        "#as classes reais de animal1, animal2 e animal2 são [0,1,1]:\n",
        "teste_y = [0, 1, 1] #labels/etiquetas\n",
        "\n"
      ],
      "execution_count": 0,
      "outputs": []
    },
    {
      "cell_type": "code",
      "metadata": {
        "id": "lht386UfWhmR",
        "colab_type": "code",
        "colab": {}
      },
      "source": [
        "#definir uma variável para o teste. Model predict usa um algoritmo para prever\n",
        "previsoes = model.predict(teste_x)"
      ],
      "execution_count": 0,
      "outputs": []
    },
    {
      "cell_type": "code",
      "metadata": {
        "id": "aXFcPC-oaTEX",
        "colab_type": "code",
        "outputId": "21409771-2174-47e6-9824-c5b1bcd7c996",
        "colab": {
          "base_uri": "https://localhost:8080/",
          "height": 34
        }
      },
      "source": [
        "#calcular o número de verdadeiros\n",
        "corretos = (previsoes == teste_y).sum()\n",
        "#total de dados no teste\n",
        "total = len(teste_x)\n",
        "#calcular a taxa de acerto\n",
        "taxa_acerto = corretos/total\n",
        "print(\"taxa de certo %.2f\" % (taxa_acerto * 100))"
      ],
      "execution_count": 0,
      "outputs": [
        {
          "output_type": "stream",
          "text": [
            "taxa de certo 66.67\n"
          ],
          "name": "stdout"
        }
      ]
    },
    {
      "cell_type": "code",
      "metadata": {
        "id": "g0IisTSo04yO",
        "colab_type": "code",
        "outputId": "e33e4ab4-8b9a-4917-85be-d941a80cdf24",
        "colab": {
          "base_uri": "https://localhost:8080/",
          "height": 34
        }
      },
      "source": [
        "from sklearn.metrics import accuracy_score\n",
        "taxa_de_acerto = accuracy_score(teste_y, previsoes)\n",
        "print(\"taxa_de_acerto %.2f\" % (taxa_de_acerto * 100))\n"
      ],
      "execution_count": 0,
      "outputs": [
        {
          "output_type": "stream",
          "text": [
            "taxa_de_acerto 66.67\n"
          ],
          "name": "stdout"
        }
      ]
    },
    {
      "cell_type": "code",
      "metadata": {
        "id": "i-pbBEX8a8cn",
        "colab_type": "code",
        "colab": {}
      },
      "source": [
        ""
      ],
      "execution_count": 0,
      "outputs": []
    }
  ]
}