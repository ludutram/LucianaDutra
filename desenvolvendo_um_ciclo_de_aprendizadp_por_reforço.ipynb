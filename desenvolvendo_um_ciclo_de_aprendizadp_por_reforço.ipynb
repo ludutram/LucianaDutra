{
  "nbformat": 4,
  "nbformat_minor": 0,
  "metadata": {
    "colab": {
      "provenance": [],
      "authorship_tag": "ABX9TyMrpPbCuJe+nse3tMVheqyO",
      "include_colab_link": true
    },
    "kernelspec": {
      "name": "python3",
      "display_name": "Python 3"
    },
    "language_info": {
      "name": "python"
    }
  },
  "cells": [
    {
      "cell_type": "markdown",
      "metadata": {
        "id": "view-in-github",
        "colab_type": "text"
      },
      "source": [
        "<a href=\"https://colab.research.google.com/github/ludutram/LucianaDutra/blob/master/desenvolvendo_um_ciclo_de_aprendizadp_por_refor%C3%A7o.ipynb\" target=\"_parent\"><img src=\"https://colab.research.google.com/assets/colab-badge.svg\" alt=\"Open In Colab\"/></a>"
      ]
    },
    {
      "cell_type": "code",
      "execution_count": 22,
      "metadata": {
        "colab": {
          "base_uri": "https://localhost:8080/"
        },
        "id": "FN2CfrP6Spt7",
        "outputId": "919110f2-79f6-4908-9d8f-1aeaf4d8c75a"
      },
      "outputs": [
        {
          "output_type": "stream",
          "name": "stdout",
          "text": [
            "TensorFlow version: 2.9.2\n"
          ]
        }
      ],
      "source": [
        "import gym\n",
        "from gym import spaces\n",
        "import tensorflow as tf\n",
        "print(\"TensorFlow version:\", tf.__version__)\n"
      ]
    },
    {
      "cell_type": "code",
      "source": [
        "!pip install pygame\n",
        "import pygame"
      ],
      "metadata": {
        "colab": {
          "base_uri": "https://localhost:8080/"
        },
        "id": "JzvFtshWYeON",
        "outputId": "4e57eabc-cb5b-494f-939d-562740f2faa0"
      },
      "execution_count": 6,
      "outputs": [
        {
          "output_type": "stream",
          "name": "stdout",
          "text": [
            "Looking in indexes: https://pypi.org/simple, https://us-python.pkg.dev/colab-wheels/public/simple/\n",
            "Collecting pygame\n",
            "  Downloading pygame-2.1.2-cp37-cp37m-manylinux_2_17_x86_64.manylinux2014_x86_64.whl (21.8 MB)\n",
            "\u001b[K     |████████████████████████████████| 21.8 MB 54.7 MB/s \n",
            "\u001b[?25hInstalling collected packages: pygame\n",
            "Successfully installed pygame-2.1.2\n"
          ]
        }
      ]
    },
    {
      "cell_type": "code",
      "source": [
        "# cria um ambiente de CartPole\n",
        "env = gym.make(\"CartPole-v1\")\n",
        "# reinicia o ambiente antes de começar\n",
        "env.reset()\n",
        "\n",
        "# loop 10 times\n",
        "for i in range(10):\n",
        "    # em cada iteração, (env.action_space.sample()), amostra uma ação aleatória, \n",
        "    # executa-a no ambiente com (env.step()) e exibe o resultado com o método (render()); \n",
        "    # ou seja, o estado atual do jogo, como na captura de tela anterior.\n",
        "    env.step(env.action_space.sample())\n",
        "    \n",
        "    # render the game - exibe o resultado com o método render\n",
        "    #env.render()\n",
        "\n",
        "# close the environment\n",
        "env.close()"
      ],
      "metadata": {
        "id": "-91tXaSKa8dL"
      },
      "execution_count": 29,
      "outputs": []
    }
  ]
}